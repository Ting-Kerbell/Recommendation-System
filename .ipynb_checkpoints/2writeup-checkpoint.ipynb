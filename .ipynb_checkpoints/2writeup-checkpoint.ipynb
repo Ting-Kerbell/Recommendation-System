{
 "cells": [
  {
   "cell_type": "code",
   "execution_count": 4,
   "metadata": {},
   "outputs": [],
   "source": [
    "import autograd.numpy as ag_np\n",
    "from matplotlib import pyplot as plt\n",
    "import pandas as pd\n",
    "from utils import load_dataset\n",
    "from AbstractBaseCollabFilterSGD import AbstractBaseCollabFilterSGD\n",
    "from CollabFilterOneScalarPerItem import CollabFilterOneScalarPerItem"
   ]
  },
  {
   "cell_type": "code",
   "execution_count": 5,
   "metadata": {},
   "outputs": [
    {
     "name": "stdout",
     "output_type": "stream",
     "text": [
      "epoch       0.000 | loss_total    13.82200 | train_MAE     3.53239 | valid_MAE     3.50620 | grad_wrt_mu     7.10400 | grad_wrt_b_per_user     0.00753 | grad_wrt_c_per_item     0.00423\n",
      "epoch       0.013 | loss_total     1.18426 | train_MAE     0.93962 | valid_MAE     0.94187 | grad_wrt_mu     0.07603 | grad_wrt_b_per_user     0.00138 | grad_wrt_c_per_item     0.00082\n",
      "epoch       0.025 | loss_total     1.23511 | train_MAE     0.94317 | valid_MAE     0.94429 | grad_wrt_mu     0.12661 | grad_wrt_b_per_user     0.00142 | grad_wrt_c_per_item     0.00084\n",
      "epoch       0.100 | loss_total     1.28834 | train_MAE     0.93797 | valid_MAE     0.93971 | grad_wrt_mu     0.01212 | grad_wrt_b_per_user     0.00144 | grad_wrt_c_per_item     0.00088\n",
      "epoch       0.200 | loss_total     1.24465 | train_MAE     0.93125 | valid_MAE     0.93359 | grad_wrt_mu     0.14125 | grad_wrt_b_per_user     0.00136 | grad_wrt_c_per_item     0.00086\n",
      "epoch       0.313 | loss_total     1.24821 | train_MAE     0.92916 | valid_MAE     0.93086 | grad_wrt_mu     0.02762 | grad_wrt_b_per_user     0.00136 | grad_wrt_c_per_item     0.00088\n",
      "epoch       0.400 | loss_total     1.26587 | train_MAE     0.92292 | valid_MAE     0.92545 | grad_wrt_mu     0.05228 | grad_wrt_b_per_user     0.00145 | grad_wrt_c_per_item     0.00087\n",
      "epoch       0.500 | loss_total     1.16707 | train_MAE     0.91912 | valid_MAE     0.92165 | grad_wrt_mu     0.03569 | grad_wrt_b_per_user     0.00132 | grad_wrt_c_per_item     0.00081\n",
      "epoch       0.613 | loss_total     1.22002 | train_MAE     0.91836 | valid_MAE     0.91997 | grad_wrt_mu     0.03611 | grad_wrt_b_per_user     0.00139 | grad_wrt_c_per_item     0.00083\n",
      "epoch       0.713 | loss_total     1.18316 | train_MAE     0.91612 | valid_MAE     0.91739 | grad_wrt_mu     0.07685 | grad_wrt_b_per_user     0.00135 | grad_wrt_c_per_item     0.00079\n",
      "epoch       0.800 | loss_total     1.16538 | train_MAE     0.91079 | valid_MAE     0.91261 | grad_wrt_mu     0.03925 | grad_wrt_b_per_user     0.00127 | grad_wrt_c_per_item     0.00082\n",
      "epoch       0.900 | loss_total     1.10473 | train_MAE     0.89981 | valid_MAE     0.90384 | grad_wrt_mu     0.05032 | grad_wrt_b_per_user     0.00131 | grad_wrt_c_per_item     0.00077\n",
      "epoch       1.000 | loss_total     1.23115 | train_MAE     0.89559 | valid_MAE     0.90000 | grad_wrt_mu     0.08352 | grad_wrt_b_per_user     0.00133 | grad_wrt_c_per_item     0.00082\n",
      "epoch       1.100 | loss_total     1.06125 | train_MAE     0.89762 | valid_MAE     0.90074 | grad_wrt_mu     0.05850 | grad_wrt_b_per_user     0.00130 | grad_wrt_c_per_item     0.00079\n",
      "epoch       1.200 | loss_total     1.20253 | train_MAE     0.89015 | valid_MAE     0.89450 | grad_wrt_mu     0.00728 | grad_wrt_b_per_user     0.00135 | grad_wrt_c_per_item     0.00082\n",
      "epoch       1.313 | loss_total     1.15909 | train_MAE     0.89108 | valid_MAE     0.89430 | grad_wrt_mu     0.02712 | grad_wrt_b_per_user     0.00132 | grad_wrt_c_per_item     0.00081\n",
      "epoch       1.400 | loss_total     1.08516 | train_MAE     0.89006 | valid_MAE     0.89285 | grad_wrt_mu     0.18494 | grad_wrt_b_per_user     0.00126 | grad_wrt_c_per_item     0.00077\n",
      "epoch       1.500 | loss_total     1.14249 | train_MAE     0.88283 | valid_MAE     0.88695 | grad_wrt_mu     0.01173 | grad_wrt_b_per_user     0.00133 | grad_wrt_c_per_item     0.00080\n",
      "epoch       1.613 | loss_total     1.14601 | train_MAE     0.87435 | valid_MAE     0.87984 | grad_wrt_mu     0.03853 | grad_wrt_b_per_user     0.00127 | grad_wrt_c_per_item     0.00080\n",
      "epoch       1.713 | loss_total     1.04386 | train_MAE     0.87504 | valid_MAE     0.87955 | grad_wrt_mu     0.02027 | grad_wrt_b_per_user     0.00127 | grad_wrt_c_per_item     0.00076\n",
      "epoch       1.800 | loss_total     1.15740 | train_MAE     0.87701 | valid_MAE     0.88038 | grad_wrt_mu     0.06769 | grad_wrt_b_per_user     0.00131 | grad_wrt_c_per_item     0.00081\n",
      "epoch       1.900 | loss_total     1.07784 | train_MAE     0.86343 | valid_MAE     0.86995 | grad_wrt_mu     0.16392 | grad_wrt_b_per_user     0.00122 | grad_wrt_c_per_item     0.00073\n",
      "epoch       2.000 | loss_total     1.07340 | train_MAE     0.86733 | valid_MAE     0.87201 | grad_wrt_mu     0.15969 | grad_wrt_b_per_user     0.00127 | grad_wrt_c_per_item     0.00076\n",
      "epoch       2.100 | loss_total     1.12080 | train_MAE     0.86975 | valid_MAE     0.87309 | grad_wrt_mu     0.11502 | grad_wrt_b_per_user     0.00134 | grad_wrt_c_per_item     0.00079\n",
      "epoch       2.200 | loss_total     1.11486 | train_MAE     0.85690 | valid_MAE     0.86338 | grad_wrt_mu     0.03931 | grad_wrt_b_per_user     0.00128 | grad_wrt_c_per_item     0.00076\n",
      "epoch       2.313 | loss_total     1.10835 | train_MAE     0.85389 | valid_MAE     0.86055 | grad_wrt_mu     0.06393 | grad_wrt_b_per_user     0.00129 | grad_wrt_c_per_item     0.00076\n",
      "epoch       2.400 | loss_total     1.10276 | train_MAE     0.85492 | valid_MAE     0.86074 | grad_wrt_mu     0.00052 | grad_wrt_b_per_user     0.00126 | grad_wrt_c_per_item     0.00075\n",
      "epoch       2.500 | loss_total     1.09418 | train_MAE     0.84732 | valid_MAE     0.85476 | grad_wrt_mu     0.21245 | grad_wrt_b_per_user     0.00123 | grad_wrt_c_per_item     0.00071\n",
      "epoch       2.613 | loss_total     1.08523 | train_MAE     0.84909 | valid_MAE     0.85525 | grad_wrt_mu     0.01010 | grad_wrt_b_per_user     0.00119 | grad_wrt_c_per_item     0.00072\n",
      "epoch       2.713 | loss_total     1.07911 | train_MAE     0.84767 | valid_MAE     0.85369 | grad_wrt_mu     0.06593 | grad_wrt_b_per_user     0.00124 | grad_wrt_c_per_item     0.00076\n",
      "epoch       2.800 | loss_total     1.07512 | train_MAE     0.85151 | valid_MAE     0.85593 | grad_wrt_mu     0.04583 | grad_wrt_b_per_user     0.00124 | grad_wrt_c_per_item     0.00074\n",
      "epoch       2.900 | loss_total     1.07194 | train_MAE     0.84735 | valid_MAE     0.85245 | grad_wrt_mu     0.13441 | grad_wrt_b_per_user     0.00132 | grad_wrt_c_per_item     0.00078\n",
      "epoch       3.000 | loss_total     1.06973 | train_MAE     0.84404 | valid_MAE     0.84958 | grad_wrt_mu     0.00300 | grad_wrt_b_per_user     0.00121 | grad_wrt_c_per_item     0.00071\n",
      "epoch       3.100 | loss_total     1.06920 | train_MAE     0.84450 | valid_MAE     0.84941 | grad_wrt_mu     0.02962 | grad_wrt_b_per_user     0.00127 | grad_wrt_c_per_item     0.00073\n",
      "epoch       3.200 | loss_total     1.06375 | train_MAE     0.84250 | valid_MAE     0.84756 | grad_wrt_mu     0.18140 | grad_wrt_b_per_user     0.00120 | grad_wrt_c_per_item     0.00072\n",
      "epoch       3.313 | loss_total     1.05934 | train_MAE     0.82803 | valid_MAE     0.83676 | grad_wrt_mu     0.20781 | grad_wrt_b_per_user     0.00130 | grad_wrt_c_per_item     0.00073\n",
      "epoch       3.400 | loss_total     1.05419 | train_MAE     0.83881 | valid_MAE     0.84398 | grad_wrt_mu     0.13872 | grad_wrt_b_per_user     0.00122 | grad_wrt_c_per_item     0.00075\n",
      "epoch       3.500 | loss_total     1.05294 | train_MAE     0.83207 | valid_MAE     0.83873 | grad_wrt_mu     0.00170 | grad_wrt_b_per_user     0.00116 | grad_wrt_c_per_item     0.00073\n",
      "epoch       3.613 | loss_total     1.04947 | train_MAE     0.82533 | valid_MAE     0.83344 | grad_wrt_mu     0.08831 | grad_wrt_b_per_user     0.00119 | grad_wrt_c_per_item     0.00073\n",
      "epoch       3.713 | loss_total     1.04497 | train_MAE     0.82499 | valid_MAE     0.83283 | grad_wrt_mu     0.02467 | grad_wrt_b_per_user     0.00118 | grad_wrt_c_per_item     0.00071\n",
      "epoch       3.800 | loss_total     1.03890 | train_MAE     0.82033 | valid_MAE     0.82931 | grad_wrt_mu     0.15903 | grad_wrt_b_per_user     0.00123 | grad_wrt_c_per_item     0.00069\n",
      "epoch       3.900 | loss_total     1.03450 | train_MAE     0.82021 | valid_MAE     0.82872 | grad_wrt_mu     0.08255 | grad_wrt_b_per_user     0.00113 | grad_wrt_c_per_item     0.00071\n",
      "epoch       4.000 | loss_total     1.03221 | train_MAE     0.82040 | valid_MAE     0.82839 | grad_wrt_mu     0.00852 | grad_wrt_b_per_user     0.00123 | grad_wrt_c_per_item     0.00069\n",
      "epoch       4.100 | loss_total     1.02564 | train_MAE     0.82855 | valid_MAE     0.83404 | grad_wrt_mu     0.07877 | grad_wrt_b_per_user     0.00120 | grad_wrt_c_per_item     0.00075\n",
      "epoch       4.200 | loss_total     1.02378 | train_MAE     0.81961 | valid_MAE     0.82704 | grad_wrt_mu     0.06724 | grad_wrt_b_per_user     0.00117 | grad_wrt_c_per_item     0.00072\n",
      "epoch       4.313 | loss_total     1.01900 | train_MAE     0.81778 | valid_MAE     0.82546 | grad_wrt_mu     0.04806 | grad_wrt_b_per_user     0.00114 | grad_wrt_c_per_item     0.00074\n",
      "epoch       4.400 | loss_total     1.01835 | train_MAE     0.80818 | valid_MAE     0.81921 | grad_wrt_mu     0.21069 | grad_wrt_b_per_user     0.00123 | grad_wrt_c_per_item     0.00070\n",
      "epoch       4.500 | loss_total     1.01590 | train_MAE     0.81617 | valid_MAE     0.82369 | grad_wrt_mu     0.05824 | grad_wrt_b_per_user     0.00121 | grad_wrt_c_per_item     0.00075\n",
      "epoch       4.613 | loss_total     1.01324 | train_MAE     0.81530 | valid_MAE     0.82279 | grad_wrt_mu     0.02101 | grad_wrt_b_per_user     0.00112 | grad_wrt_c_per_item     0.00071\n",
      "epoch       4.713 | loss_total     1.01341 | train_MAE     0.80943 | valid_MAE     0.81832 | grad_wrt_mu     0.08452 | grad_wrt_b_per_user     0.00120 | grad_wrt_c_per_item     0.00068\n",
      "epoch       4.800 | loss_total     1.00955 | train_MAE     0.81093 | valid_MAE     0.81908 | grad_wrt_mu     0.06467 | grad_wrt_b_per_user     0.00113 | grad_wrt_c_per_item     0.00069\n",
      "epoch       4.900 | loss_total     1.00959 | train_MAE     0.80677 | valid_MAE     0.81585 | grad_wrt_mu     0.00286 | grad_wrt_b_per_user     0.00126 | grad_wrt_c_per_item     0.00073\n"
     ]
    },
    {
     "name": "stdout",
     "output_type": "stream",
     "text": [
      "epoch       5.000 | loss_total     1.00434 | train_MAE     0.80535 | valid_MAE     0.81457 | grad_wrt_mu     0.01203 | grad_wrt_b_per_user     0.00114 | grad_wrt_c_per_item     0.00069\n",
      "epoch       5.250 | loss_total     1.00305 | train_MAE     0.80418 | valid_MAE     0.81310 | grad_wrt_mu     0.03152 | grad_wrt_b_per_user     0.00118 | grad_wrt_c_per_item     0.00069\n",
      "epoch       5.500 | loss_total     0.99657 | train_MAE     0.81001 | valid_MAE     0.81686 | grad_wrt_mu     0.10015 | grad_wrt_b_per_user     0.00116 | grad_wrt_c_per_item     0.00075\n",
      "epoch       5.750 | loss_total     0.98688 | train_MAE     0.80148 | valid_MAE     0.80997 | grad_wrt_mu     0.02451 | grad_wrt_b_per_user     0.00119 | grad_wrt_c_per_item     0.00065\n",
      "epoch       6.000 | loss_total     0.98493 | train_MAE     0.79498 | valid_MAE     0.80495 | grad_wrt_mu     0.00156 | grad_wrt_b_per_user     0.00120 | grad_wrt_c_per_item     0.00068\n",
      "epoch       6.250 | loss_total     0.97845 | train_MAE     0.79285 | valid_MAE     0.80297 | grad_wrt_mu     0.00373 | grad_wrt_b_per_user     0.00112 | grad_wrt_c_per_item     0.00066\n",
      "epoch       6.500 | loss_total     0.97478 | train_MAE     0.79205 | valid_MAE     0.80184 | grad_wrt_mu     0.04781 | grad_wrt_b_per_user     0.00115 | grad_wrt_c_per_item     0.00067\n",
      "epoch       6.750 | loss_total     0.97362 | train_MAE     0.79387 | valid_MAE     0.80241 | grad_wrt_mu     0.08370 | grad_wrt_b_per_user     0.00112 | grad_wrt_c_per_item     0.00065\n",
      "epoch       7.000 | loss_total     0.96788 | train_MAE     0.78807 | valid_MAE     0.79815 | grad_wrt_mu     0.02386 | grad_wrt_b_per_user     0.00116 | grad_wrt_c_per_item     0.00071\n",
      "epoch       7.250 | loss_total     0.96586 | train_MAE     0.78504 | valid_MAE     0.79573 | grad_wrt_mu     0.05963 | grad_wrt_b_per_user     0.00106 | grad_wrt_c_per_item     0.00062\n",
      "epoch       7.500 | loss_total     0.96291 | train_MAE     0.78965 | valid_MAE     0.79820 | grad_wrt_mu     0.07427 | grad_wrt_b_per_user     0.00109 | grad_wrt_c_per_item     0.00065\n",
      "epoch       7.750 | loss_total     0.95671 | train_MAE     0.78222 | valid_MAE     0.79294 | grad_wrt_mu     0.04128 | grad_wrt_b_per_user     0.00105 | grad_wrt_c_per_item     0.00067\n",
      "epoch       8.000 | loss_total     0.95520 | train_MAE     0.78677 | valid_MAE     0.79562 | grad_wrt_mu     0.07288 | grad_wrt_b_per_user     0.00115 | grad_wrt_c_per_item     0.00069\n",
      "epoch       8.250 | loss_total     0.95251 | train_MAE     0.78179 | valid_MAE     0.79197 | grad_wrt_mu     0.05418 | grad_wrt_b_per_user     0.00109 | grad_wrt_c_per_item     0.00067\n",
      "epoch       8.500 | loss_total     0.94970 | train_MAE     0.77900 | valid_MAE     0.78974 | grad_wrt_mu     0.16579 | grad_wrt_b_per_user     0.00113 | grad_wrt_c_per_item     0.00069\n",
      "epoch       8.750 | loss_total     0.94526 | train_MAE     0.77629 | valid_MAE     0.78754 | grad_wrt_mu     0.01557 | grad_wrt_b_per_user     0.00115 | grad_wrt_c_per_item     0.00067\n",
      "epoch       9.000 | loss_total     0.94432 | train_MAE     0.77719 | valid_MAE     0.78778 | grad_wrt_mu     0.09792 | grad_wrt_b_per_user     0.00110 | grad_wrt_c_per_item     0.00065\n",
      "epoch       9.250 | loss_total     0.93683 | train_MAE     0.77539 | valid_MAE     0.78631 | grad_wrt_mu     0.05650 | grad_wrt_b_per_user     0.00111 | grad_wrt_c_per_item     0.00067\n",
      "epoch       9.500 | loss_total     0.93464 | train_MAE     0.76989 | valid_MAE     0.78283 | grad_wrt_mu     0.08589 | grad_wrt_b_per_user     0.00110 | grad_wrt_c_per_item     0.00066\n",
      "epoch       9.750 | loss_total     0.93791 | train_MAE     0.77208 | valid_MAE     0.78350 | grad_wrt_mu     0.02007 | grad_wrt_b_per_user     0.00114 | grad_wrt_c_per_item     0.00068\n",
      "epoch      10.000 | loss_total     0.93584 | train_MAE     0.77443 | valid_MAE     0.78481 | grad_wrt_mu     0.07285 | grad_wrt_b_per_user     0.00106 | grad_wrt_c_per_item     0.00067\n",
      "epoch      11.000 | loss_total     0.92741 | train_MAE     0.76711 | valid_MAE     0.77887 | grad_wrt_mu     0.02834 | grad_wrt_b_per_user     0.00109 | grad_wrt_c_per_item     0.00065\n",
      "epoch      12.000 | loss_total     0.92107 | train_MAE     0.76766 | valid_MAE     0.77840 | grad_wrt_mu     0.10142 | grad_wrt_b_per_user     0.00112 | grad_wrt_c_per_item     0.00063\n",
      "epoch      13.000 | loss_total     0.91563 | train_MAE     0.75923 | valid_MAE     0.77225 | grad_wrt_mu     0.12218 | grad_wrt_b_per_user     0.00106 | grad_wrt_c_per_item     0.00066\n",
      "epoch      14.000 | loss_total     0.90989 | train_MAE     0.76321 | valid_MAE     0.77406 | grad_wrt_mu     0.09493 | grad_wrt_b_per_user     0.00117 | grad_wrt_c_per_item     0.00067\n",
      "epoch      15.000 | loss_total     0.90602 | train_MAE     0.75701 | valid_MAE     0.76930 | grad_wrt_mu     0.02313 | grad_wrt_b_per_user     0.00105 | grad_wrt_c_per_item     0.00062\n",
      "epoch      16.000 | loss_total     0.90041 | train_MAE     0.75261 | valid_MAE     0.76613 | grad_wrt_mu     0.09842 | grad_wrt_b_per_user     0.00108 | grad_wrt_c_per_item     0.00061\n",
      "epoch      17.000 | loss_total     0.89806 | train_MAE     0.75411 | valid_MAE     0.76637 | grad_wrt_mu     0.02587 | grad_wrt_b_per_user     0.00110 | grad_wrt_c_per_item     0.00065\n",
      "epoch      18.000 | loss_total     0.89339 | train_MAE     0.75035 | valid_MAE     0.76353 | grad_wrt_mu     0.04503 | grad_wrt_b_per_user     0.00103 | grad_wrt_c_per_item     0.00065\n",
      "epoch      19.000 | loss_total     0.89281 | train_MAE     0.75022 | valid_MAE     0.76300 | grad_wrt_mu     0.08667 | grad_wrt_b_per_user     0.00110 | grad_wrt_c_per_item     0.00069\n",
      "epoch      20.000 | loss_total     0.88664 | train_MAE     0.74615 | valid_MAE     0.76022 | grad_wrt_mu     0.00363 | grad_wrt_b_per_user     0.00105 | grad_wrt_c_per_item     0.00062\n",
      "epoch      21.000 | loss_total     0.88672 | train_MAE     0.74796 | valid_MAE     0.76089 | grad_wrt_mu     0.02497 | grad_wrt_b_per_user     0.00104 | grad_wrt_c_per_item     0.00066\n",
      "epoch      22.000 | loss_total     0.88397 | train_MAE     0.74591 | valid_MAE     0.75924 | grad_wrt_mu     0.03665 | grad_wrt_b_per_user     0.00109 | grad_wrt_c_per_item     0.00065\n",
      "epoch      23.000 | loss_total     0.88040 | train_MAE     0.74148 | valid_MAE     0.75673 | grad_wrt_mu     0.03466 | grad_wrt_b_per_user     0.00107 | grad_wrt_c_per_item     0.00061\n",
      "epoch      24.000 | loss_total     0.87947 | train_MAE     0.74603 | valid_MAE     0.75884 | grad_wrt_mu     0.01841 | grad_wrt_b_per_user     0.00112 | grad_wrt_c_per_item     0.00061\n",
      "epoch      25.000 | loss_total     0.87667 | train_MAE     0.74127 | valid_MAE     0.75552 | grad_wrt_mu     0.04825 | grad_wrt_b_per_user     0.00103 | grad_wrt_c_per_item     0.00066\n",
      "epoch      26.000 | loss_total     0.87425 | train_MAE     0.74120 | valid_MAE     0.75520 | grad_wrt_mu     0.06774 | grad_wrt_b_per_user     0.00101 | grad_wrt_c_per_item     0.00062\n",
      "epoch      27.000 | loss_total     0.87501 | train_MAE     0.74340 | valid_MAE     0.75646 | grad_wrt_mu     0.09297 | grad_wrt_b_per_user     0.00107 | grad_wrt_c_per_item     0.00063\n",
      "epoch      28.000 | loss_total     0.87272 | train_MAE     0.73865 | valid_MAE     0.75322 | grad_wrt_mu     0.03929 | grad_wrt_b_per_user     0.00106 | grad_wrt_c_per_item     0.00064\n",
      "epoch      29.000 | loss_total     0.87048 | train_MAE     0.74112 | valid_MAE     0.75458 | grad_wrt_mu     0.08171 | grad_wrt_b_per_user     0.00107 | grad_wrt_c_per_item     0.00059\n",
      "epoch      30.000 | loss_total     0.87063 | train_MAE     0.73699 | valid_MAE     0.75184 | grad_wrt_mu     0.04132 | grad_wrt_b_per_user     0.00111 | grad_wrt_c_per_item     0.00066\n",
      "epoch      31.000 | loss_total     0.86793 | train_MAE     0.73791 | valid_MAE     0.75213 | grad_wrt_mu     0.06630 | grad_wrt_b_per_user     0.00107 | grad_wrt_c_per_item     0.00063\n",
      "epoch      32.000 | loss_total     0.86679 | train_MAE     0.73802 | valid_MAE     0.75206 | grad_wrt_mu     0.05252 | grad_wrt_b_per_user     0.00108 | grad_wrt_c_per_item     0.00068\n",
      "epoch      33.000 | loss_total     0.86463 | train_MAE     0.73629 | valid_MAE     0.75083 | grad_wrt_mu     0.13299 | grad_wrt_b_per_user     0.00103 | grad_wrt_c_per_item     0.00062\n",
      "epoch      34.000 | loss_total     0.86444 | train_MAE     0.74034 | valid_MAE     0.75346 | grad_wrt_mu     0.01609 | grad_wrt_b_per_user     0.00099 | grad_wrt_c_per_item     0.00061\n",
      "epoch      35.000 | loss_total     0.86275 | train_MAE     0.73741 | valid_MAE     0.75130 | grad_wrt_mu     0.11414 | grad_wrt_b_per_user     0.00105 | grad_wrt_c_per_item     0.00059\n"
     ]
    },
    {
     "name": "stdout",
     "output_type": "stream",
     "text": [
      "epoch      36.000 | loss_total     0.86405 | train_MAE     0.73924 | valid_MAE     0.75247 | grad_wrt_mu     0.07519 | grad_wrt_b_per_user     0.00107 | grad_wrt_c_per_item     0.00065\n",
      "epoch      37.000 | loss_total     0.86078 | train_MAE     0.73318 | valid_MAE     0.74849 | grad_wrt_mu     0.04684 | grad_wrt_b_per_user     0.00098 | grad_wrt_c_per_item     0.00058\n",
      "epoch      38.000 | loss_total     0.86137 | train_MAE     0.73535 | valid_MAE     0.74964 | grad_wrt_mu     0.13924 | grad_wrt_b_per_user     0.00104 | grad_wrt_c_per_item     0.00061\n",
      "epoch      39.000 | loss_total     0.86056 | train_MAE     0.73394 | valid_MAE     0.74862 | grad_wrt_mu     0.05638 | grad_wrt_b_per_user     0.00109 | grad_wrt_c_per_item     0.00063\n",
      "epoch      40.000 | loss_total     0.85761 | train_MAE     0.73397 | valid_MAE     0.74854 | grad_wrt_mu     0.03573 | grad_wrt_b_per_user     0.00105 | grad_wrt_c_per_item     0.00065\n",
      "epoch      41.000 | loss_total     0.85804 | train_MAE     0.73223 | valid_MAE     0.74740 | grad_wrt_mu     0.00395 | grad_wrt_b_per_user     0.00100 | grad_wrt_c_per_item     0.00062\n",
      "epoch      42.000 | loss_total     0.85791 | train_MAE     0.73423 | valid_MAE     0.74851 | grad_wrt_mu     0.11905 | grad_wrt_b_per_user     0.00101 | grad_wrt_c_per_item     0.00062\n",
      "epoch      43.000 | loss_total     0.85766 | train_MAE     0.73748 | valid_MAE     0.75067 | grad_wrt_mu     0.12656 | grad_wrt_b_per_user     0.00106 | grad_wrt_c_per_item     0.00061\n",
      "epoch      44.000 | loss_total     0.85613 | train_MAE     0.73630 | valid_MAE     0.74976 | grad_wrt_mu     0.20942 | grad_wrt_b_per_user     0.00113 | grad_wrt_c_per_item     0.00066\n",
      "epoch      45.000 | loss_total     0.85476 | train_MAE     0.72909 | valid_MAE     0.74547 | grad_wrt_mu     0.04220 | grad_wrt_b_per_user     0.00098 | grad_wrt_c_per_item     0.00059\n",
      "epoch      46.000 | loss_total     0.85466 | train_MAE     0.73113 | valid_MAE     0.74626 | grad_wrt_mu     0.04131 | grad_wrt_b_per_user     0.00099 | grad_wrt_c_per_item     0.00060\n",
      "epoch      47.000 | loss_total     0.85405 | train_MAE     0.73474 | valid_MAE     0.74852 | grad_wrt_mu     0.13680 | grad_wrt_b_per_user     0.00097 | grad_wrt_c_per_item     0.00060\n",
      "epoch      48.000 | loss_total     0.85442 | train_MAE     0.72831 | valid_MAE     0.74470 | grad_wrt_mu     0.01833 | grad_wrt_b_per_user     0.00101 | grad_wrt_c_per_item     0.00062\n",
      "epoch      49.000 | loss_total     0.85306 | train_MAE     0.73489 | valid_MAE     0.74854 | grad_wrt_mu     0.05839 | grad_wrt_b_per_user     0.00100 | grad_wrt_c_per_item     0.00060\n",
      "epoch      49.988 | loss_total     0.85275 | train_MAE     0.72785 | valid_MAE     0.74424 | grad_wrt_mu     0.00153 | grad_wrt_b_per_user     0.00100 | grad_wrt_c_per_item     0.00059\n"
     ]
    }
   ],
   "source": [
    "train_tuple, valid_tuple, test_tuple, n_users, n_items = load_dataset()\n",
    "model = CollabFilterOneScalarPerItem(\n",
    "        n_epochs=100, step_size=0.5)\n",
    "model.init_parameter_dict(n_users, n_items, train_tuple)\n",
    "model.fit(train_tuple, valid_tuple)"
   ]
  },
  {
   "cell_type": "code",
   "execution_count": 6,
   "metadata": {},
   "outputs": [
    {
     "data": {
      "text/plain": [
       "<matplotlib.legend.Legend at 0x1c691403ba8>"
      ]
     },
     "execution_count": 6,
     "metadata": {},
     "output_type": "execute_result"
    },
    {
     "data": {
      "image/png": "[encoded data removed]",
      "text/plain": [
       "<Figure size 432x288 with 1 Axes>"
      ]
     },
     "metadata": {
      "needs_background": "light"
     },
     "output_type": "display_data"
    }
   ],
   "source": [
    "plt.plot(model.trace_epoch, model.trace_mae_train, label=\"Training MAE\")\n",
    "plt.plot(model.trace_epoch, model.trace_mae_valid, label=\"Validation MAE\")\n",
    "plt.ylim((0, 1.5))\n",
    "plt.legend()"
   ]
  },
  {
   "cell_type": "code",
   "execution_count": null,
   "metadata": {},
   "outputs": [],
   "source": []
  }
 ],
 "metadata": {
  "kernelspec": {
   "display_name": "Python 3",
   "language": "python",
   "name": "python3"
  },
  "language_info": {
   "codemirror_mode": {
    "name": "ipython",
    "version": 3
   },
   "file_extension": ".py",
   "mimetype": "text/x-python",
   "name": "python",
   "nbconvert_exporter": "python",
   "pygments_lexer": "ipython3",
   "version": "3.6.8"
  }
 },
 "nbformat": 4,
 "nbformat_minor": 2
}
