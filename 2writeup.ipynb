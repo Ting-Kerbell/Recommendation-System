{
 "cells": [
  {
   "cell_type": "code",
   "execution_count": 13,
   "metadata": {},
   "outputs": [],
   "source": [
    "import autograd.numpy as ag_np\n",
    "from matplotlib import pyplot as plt\n",
    "import pandas as pd\n",
    "from utils import load_dataset\n",
    "from AbstractBaseCollabFilterSGD import AbstractBaseCollabFilterSGD\n",
    "from CollabFilterOneScalarPerItem import CollabFilterOneScalarPerItem"
   ]
  },
  {
   "cell_type": "code",
   "execution_count": 21,
   "metadata": {},
   "outputs": [
    {
     "name": "stdout",
     "output_type": "stream",
     "text": [
      "epoch       0.000 | loss_total     1.20568 | train_MAE     0.94428 | valid_MAE     0.94558 | grad_wrt_mu     0.03922 | grad_wrt_b_per_user     0.00136 | grad_wrt_c_per_item     0.00085\n",
      "epoch       0.013 | loss_total     1.18428 | train_MAE     0.94146 | valid_MAE     0.94337 | grad_wrt_mu     0.05017 | grad_wrt_b_per_user     0.00138 | grad_wrt_c_per_item     0.00082\n",
      "epoch       0.025 | loss_total     1.23666 | train_MAE     0.94356 | valid_MAE     0.94474 | grad_wrt_mu     0.12696 | grad_wrt_b_per_user     0.00142 | grad_wrt_c_per_item     0.00084\n",
      "epoch       0.100 | loss_total     1.28897 | train_MAE     0.93838 | valid_MAE     0.94017 | grad_wrt_mu     0.01171 | grad_wrt_b_per_user     0.00144 | grad_wrt_c_per_item     0.00088\n",
      "epoch       0.200 | loss_total     1.24534 | train_MAE     0.93157 | valid_MAE     0.93399 | grad_wrt_mu     0.14330 | grad_wrt_b_per_user     0.00136 | grad_wrt_c_per_item     0.00086\n",
      "epoch       0.313 | loss_total     1.24974 | train_MAE     0.92950 | valid_MAE     0.93127 | grad_wrt_mu     0.02600 | grad_wrt_b_per_user     0.00136 | grad_wrt_c_per_item     0.00088\n",
      "epoch       0.400 | loss_total     1.26621 | train_MAE     0.92331 | valid_MAE     0.92589 | grad_wrt_mu     0.05217 | grad_wrt_b_per_user     0.00145 | grad_wrt_c_per_item     0.00087\n",
      "epoch       0.500 | loss_total     1.16785 | train_MAE     0.91954 | valid_MAE     0.92210 | grad_wrt_mu     0.03560 | grad_wrt_b_per_user     0.00131 | grad_wrt_c_per_item     0.00081\n",
      "epoch       0.613 | loss_total     1.22108 | train_MAE     0.91870 | valid_MAE     0.92038 | grad_wrt_mu     0.03490 | grad_wrt_b_per_user     0.00139 | grad_wrt_c_per_item     0.00083\n",
      "epoch       0.713 | loss_total     1.18419 | train_MAE     0.91647 | valid_MAE     0.91780 | grad_wrt_mu     0.07570 | grad_wrt_b_per_user     0.00135 | grad_wrt_c_per_item     0.00079\n",
      "epoch       0.800 | loss_total     1.16603 | train_MAE     0.91116 | valid_MAE     0.91304 | grad_wrt_mu     0.03945 | grad_wrt_b_per_user     0.00127 | grad_wrt_c_per_item     0.00082\n",
      "epoch       0.900 | loss_total     1.10557 | train_MAE     0.90019 | valid_MAE     0.90427 | grad_wrt_mu     0.05053 | grad_wrt_b_per_user     0.00131 | grad_wrt_c_per_item     0.00077\n",
      "epoch       1.000 | loss_total     1.23137 | train_MAE     0.89595 | valid_MAE     0.90042 | grad_wrt_mu     0.08439 | grad_wrt_b_per_user     0.00133 | grad_wrt_c_per_item     0.00082\n",
      "epoch       1.100 | loss_total     1.06203 | train_MAE     0.89802 | valid_MAE     0.90118 | grad_wrt_mu     0.05808 | grad_wrt_b_per_user     0.00130 | grad_wrt_c_per_item     0.00079\n",
      "epoch       1.200 | loss_total     1.20416 | train_MAE     0.89055 | valid_MAE     0.89493 | grad_wrt_mu     0.00692 | grad_wrt_b_per_user     0.00135 | grad_wrt_c_per_item     0.00082\n",
      "epoch       1.313 | loss_total     1.15938 | train_MAE     0.89143 | valid_MAE     0.89469 | grad_wrt_mu     0.02690 | grad_wrt_b_per_user     0.00132 | grad_wrt_c_per_item     0.00081\n",
      "epoch       1.400 | loss_total     1.08570 | train_MAE     0.89043 | valid_MAE     0.89326 | grad_wrt_mu     0.18476 | grad_wrt_b_per_user     0.00126 | grad_wrt_c_per_item     0.00077\n",
      "epoch       1.500 | loss_total     1.14338 | train_MAE     0.88318 | valid_MAE     0.88734 | grad_wrt_mu     0.01171 | grad_wrt_b_per_user     0.00133 | grad_wrt_c_per_item     0.00081\n",
      "epoch       1.613 | loss_total     1.14703 | train_MAE     0.87468 | valid_MAE     0.88021 | grad_wrt_mu     0.03860 | grad_wrt_b_per_user     0.00127 | grad_wrt_c_per_item     0.00080\n",
      "epoch       1.713 | loss_total     1.04475 | train_MAE     0.87535 | valid_MAE     0.87991 | grad_wrt_mu     0.01906 | grad_wrt_b_per_user     0.00127 | grad_wrt_c_per_item     0.00076\n",
      "epoch       1.800 | loss_total     1.15843 | train_MAE     0.87740 | valid_MAE     0.88080 | grad_wrt_mu     0.06854 | grad_wrt_b_per_user     0.00131 | grad_wrt_c_per_item     0.00081\n",
      "epoch       1.900 | loss_total     1.07860 | train_MAE     0.86378 | valid_MAE     0.87032 | grad_wrt_mu     0.16470 | grad_wrt_b_per_user     0.00122 | grad_wrt_c_per_item     0.00073\n",
      "epoch       2.000 | loss_total     1.07393 | train_MAE     0.86768 | valid_MAE     0.87238 | grad_wrt_mu     0.16045 | grad_wrt_b_per_user     0.00127 | grad_wrt_c_per_item     0.00076\n",
      "epoch       2.100 | loss_total     1.12159 | train_MAE     0.87011 | valid_MAE     0.87348 | grad_wrt_mu     0.11509 | grad_wrt_b_per_user     0.00134 | grad_wrt_c_per_item     0.00079\n",
      "epoch       2.200 | loss_total     1.11566 | train_MAE     0.85723 | valid_MAE     0.86373 | grad_wrt_mu     0.03989 | grad_wrt_b_per_user     0.00128 | grad_wrt_c_per_item     0.00076\n",
      "epoch       2.313 | loss_total     1.10913 | train_MAE     0.85421 | valid_MAE     0.86089 | grad_wrt_mu     0.06299 | grad_wrt_b_per_user     0.00129 | grad_wrt_c_per_item     0.00076\n",
      "epoch       2.400 | loss_total     1.10352 | train_MAE     0.85527 | valid_MAE     0.86110 | grad_wrt_mu     0.00114 | grad_wrt_b_per_user     0.00126 | grad_wrt_c_per_item     0.00075\n",
      "epoch       2.500 | loss_total     1.09492 | train_MAE     0.84758 | valid_MAE     0.85505 | grad_wrt_mu     0.21288 | grad_wrt_b_per_user     0.00123 | grad_wrt_c_per_item     0.00071\n",
      "epoch       2.613 | loss_total     1.08596 | train_MAE     0.84935 | valid_MAE     0.85555 | grad_wrt_mu     0.01062 | grad_wrt_b_per_user     0.00119 | grad_wrt_c_per_item     0.00072\n",
      "epoch       2.713 | loss_total     1.07980 | train_MAE     0.84798 | valid_MAE     0.85403 | grad_wrt_mu     0.06579 | grad_wrt_b_per_user     0.00124 | grad_wrt_c_per_item     0.00076\n",
      "epoch       2.800 | loss_total     1.07582 | train_MAE     0.85185 | valid_MAE     0.85629 | grad_wrt_mu     0.04591 | grad_wrt_b_per_user     0.00124 | grad_wrt_c_per_item     0.00074\n",
      "epoch       2.900 | loss_total     1.07260 | train_MAE     0.84768 | valid_MAE     0.85281 | grad_wrt_mu     0.13441 | grad_wrt_b_per_user     0.00132 | grad_wrt_c_per_item     0.00078\n",
      "epoch       3.000 | loss_total     1.07040 | train_MAE     0.84435 | valid_MAE     0.84991 | grad_wrt_mu     0.00335 | grad_wrt_b_per_user     0.00121 | grad_wrt_c_per_item     0.00072\n",
      "epoch       3.100 | loss_total     1.06983 | train_MAE     0.84483 | valid_MAE     0.84977 | grad_wrt_mu     0.02963 | grad_wrt_b_per_user     0.00127 | grad_wrt_c_per_item     0.00073\n",
      "epoch       3.200 | loss_total     1.06436 | train_MAE     0.84285 | valid_MAE     0.84793 | grad_wrt_mu     0.18169 | grad_wrt_b_per_user     0.00120 | grad_wrt_c_per_item     0.00072\n",
      "epoch       3.313 | loss_total     1.05994 | train_MAE     0.82824 | valid_MAE     0.83699 | grad_wrt_mu     0.20864 | grad_wrt_b_per_user     0.00130 | grad_wrt_c_per_item     0.00073\n",
      "epoch       3.400 | loss_total     1.05480 | train_MAE     0.83912 | valid_MAE     0.84431 | grad_wrt_mu     0.13866 | grad_wrt_b_per_user     0.00122 | grad_wrt_c_per_item     0.00075\n",
      "epoch       3.500 | loss_total     1.05356 | train_MAE     0.83232 | valid_MAE     0.83902 | grad_wrt_mu     0.00160 | grad_wrt_b_per_user     0.00116 | grad_wrt_c_per_item     0.00073\n",
      "epoch       3.613 | loss_total     1.05010 | train_MAE     0.82558 | valid_MAE     0.83371 | grad_wrt_mu     0.08808 | grad_wrt_b_per_user     0.00119 | grad_wrt_c_per_item     0.00073\n",
      "epoch       3.713 | loss_total     1.04557 | train_MAE     0.82522 | valid_MAE     0.83309 | grad_wrt_mu     0.02495 | grad_wrt_b_per_user     0.00118 | grad_wrt_c_per_item     0.00071\n",
      "epoch       3.800 | loss_total     1.03949 | train_MAE     0.82057 | valid_MAE     0.82956 | grad_wrt_mu     0.15759 | grad_wrt_b_per_user     0.00123 | grad_wrt_c_per_item     0.00070\n",
      "epoch       3.900 | loss_total     1.03507 | train_MAE     0.82042 | valid_MAE     0.82896 | grad_wrt_mu     0.08273 | grad_wrt_b_per_user     0.00113 | grad_wrt_c_per_item     0.00071\n",
      "epoch       4.000 | loss_total     1.03275 | train_MAE     0.82063 | valid_MAE     0.82864 | grad_wrt_mu     0.00863 | grad_wrt_b_per_user     0.00123 | grad_wrt_c_per_item     0.00069\n",
      "epoch       4.100 | loss_total     1.02619 | train_MAE     0.82880 | valid_MAE     0.83433 | grad_wrt_mu     0.07797 | grad_wrt_b_per_user     0.00120 | grad_wrt_c_per_item     0.00075\n",
      "epoch       4.200 | loss_total     1.02431 | train_MAE     0.81985 | valid_MAE     0.82731 | grad_wrt_mu     0.06820 | grad_wrt_b_per_user     0.00117 | grad_wrt_c_per_item     0.00072\n",
      "epoch       4.313 | loss_total     1.01951 | train_MAE     0.81803 | valid_MAE     0.82573 | grad_wrt_mu     0.04833 | grad_wrt_b_per_user     0.00114 | grad_wrt_c_per_item     0.00074\n",
      "epoch       4.400 | loss_total     1.01885 | train_MAE     0.80833 | valid_MAE     0.81938 | grad_wrt_mu     0.21107 | grad_wrt_b_per_user     0.00123 | grad_wrt_c_per_item     0.00070\n",
      "epoch       4.500 | loss_total     1.01639 | train_MAE     0.81642 | valid_MAE     0.82396 | grad_wrt_mu     0.05810 | grad_wrt_b_per_user     0.00121 | grad_wrt_c_per_item     0.00075\n",
      "epoch       4.613 | loss_total     1.01372 | train_MAE     0.81551 | valid_MAE     0.82303 | grad_wrt_mu     0.01988 | grad_wrt_b_per_user     0.00112 | grad_wrt_c_per_item     0.00071\n",
      "epoch       4.713 | loss_total     1.01388 | train_MAE     0.80962 | valid_MAE     0.81853 | grad_wrt_mu     0.08467 | grad_wrt_b_per_user     0.00120 | grad_wrt_c_per_item     0.00068\n",
      "epoch       4.800 | loss_total     1.01001 | train_MAE     0.81114 | valid_MAE     0.81931 | grad_wrt_mu     0.06457 | grad_wrt_b_per_user     0.00113 | grad_wrt_c_per_item     0.00069\n",
      "epoch       4.900 | loss_total     1.01006 | train_MAE     0.80696 | valid_MAE     0.81607 | grad_wrt_mu     0.00299 | grad_wrt_b_per_user     0.00126 | grad_wrt_c_per_item     0.00073\n",
      "epoch       5.000 | loss_total     1.00481 | train_MAE     0.80553 | valid_MAE     0.81479 | grad_wrt_mu     0.01190 | grad_wrt_b_per_user     0.00114 | grad_wrt_c_per_item     0.00069\n",
      "epoch       5.250 | loss_total     1.00349 | train_MAE     0.80437 | valid_MAE     0.81332 | grad_wrt_mu     0.03108 | grad_wrt_b_per_user     0.00118 | grad_wrt_c_per_item     0.00069\n"
     ]
    },
    {
     "name": "stdout",
     "output_type": "stream",
     "text": [
      "epoch       5.500 | loss_total     0.99698 | train_MAE     0.81021 | valid_MAE     0.81708 | grad_wrt_mu     0.09937 | grad_wrt_b_per_user     0.00116 | grad_wrt_c_per_item     0.00075\n",
      "epoch       5.750 | loss_total     0.98728 | train_MAE     0.80168 | valid_MAE     0.81018 | grad_wrt_mu     0.02466 | grad_wrt_b_per_user     0.00119 | grad_wrt_c_per_item     0.00065\n",
      "epoch       6.000 | loss_total     0.98535 | train_MAE     0.79514 | valid_MAE     0.80513 | grad_wrt_mu     0.00094 | grad_wrt_b_per_user     0.00120 | grad_wrt_c_per_item     0.00068\n",
      "epoch       6.250 | loss_total     0.97886 | train_MAE     0.79302 | valid_MAE     0.80314 | grad_wrt_mu     0.00367 | grad_wrt_b_per_user     0.00112 | grad_wrt_c_per_item     0.00066\n",
      "epoch       6.500 | loss_total     0.97519 | train_MAE     0.79221 | valid_MAE     0.80201 | grad_wrt_mu     0.04775 | grad_wrt_b_per_user     0.00115 | grad_wrt_c_per_item     0.00067\n",
      "epoch       6.750 | loss_total     0.97402 | train_MAE     0.79405 | valid_MAE     0.80260 | grad_wrt_mu     0.08399 | grad_wrt_b_per_user     0.00112 | grad_wrt_c_per_item     0.00065\n",
      "epoch       7.000 | loss_total     0.96824 | train_MAE     0.78822 | valid_MAE     0.79830 | grad_wrt_mu     0.02427 | grad_wrt_b_per_user     0.00116 | grad_wrt_c_per_item     0.00071\n",
      "epoch       7.250 | loss_total     0.96620 | train_MAE     0.78519 | valid_MAE     0.79588 | grad_wrt_mu     0.05963 | grad_wrt_b_per_user     0.00106 | grad_wrt_c_per_item     0.00062\n",
      "epoch       7.500 | loss_total     0.96323 | train_MAE     0.78980 | valid_MAE     0.79838 | grad_wrt_mu     0.07434 | grad_wrt_b_per_user     0.00109 | grad_wrt_c_per_item     0.00065\n",
      "epoch       7.750 | loss_total     0.95702 | train_MAE     0.78235 | valid_MAE     0.79309 | grad_wrt_mu     0.04130 | grad_wrt_b_per_user     0.00105 | grad_wrt_c_per_item     0.00067\n",
      "epoch       8.000 | loss_total     0.95552 | train_MAE     0.78691 | valid_MAE     0.79577 | grad_wrt_mu     0.07273 | grad_wrt_b_per_user     0.00115 | grad_wrt_c_per_item     0.00069\n",
      "epoch       8.250 | loss_total     0.95283 | train_MAE     0.78195 | valid_MAE     0.79213 | grad_wrt_mu     0.05402 | grad_wrt_b_per_user     0.00109 | grad_wrt_c_per_item     0.00067\n",
      "epoch       8.500 | loss_total     0.95001 | train_MAE     0.77914 | valid_MAE     0.78989 | grad_wrt_mu     0.16586 | grad_wrt_b_per_user     0.00113 | grad_wrt_c_per_item     0.00069\n",
      "epoch       8.750 | loss_total     0.94556 | train_MAE     0.77642 | valid_MAE     0.78768 | grad_wrt_mu     0.01565 | grad_wrt_b_per_user     0.00115 | grad_wrt_c_per_item     0.00067\n",
      "epoch       9.000 | loss_total     0.94461 | train_MAE     0.77732 | valid_MAE     0.78792 | grad_wrt_mu     0.09811 | grad_wrt_b_per_user     0.00110 | grad_wrt_c_per_item     0.00065\n",
      "epoch       9.250 | loss_total     0.93711 | train_MAE     0.77550 | valid_MAE     0.78644 | grad_wrt_mu     0.05632 | grad_wrt_b_per_user     0.00111 | grad_wrt_c_per_item     0.00067\n",
      "epoch       9.500 | loss_total     0.93492 | train_MAE     0.76999 | valid_MAE     0.78295 | grad_wrt_mu     0.08602 | grad_wrt_b_per_user     0.00110 | grad_wrt_c_per_item     0.00066\n",
      "epoch       9.750 | loss_total     0.93817 | train_MAE     0.77220 | valid_MAE     0.78363 | grad_wrt_mu     0.02030 | grad_wrt_b_per_user     0.00114 | grad_wrt_c_per_item     0.00068\n",
      "epoch      10.000 | loss_total     0.93610 | train_MAE     0.77454 | valid_MAE     0.78494 | grad_wrt_mu     0.07263 | grad_wrt_b_per_user     0.00106 | grad_wrt_c_per_item     0.00067\n",
      "epoch      11.000 | loss_total     0.92765 | train_MAE     0.76722 | valid_MAE     0.77898 | grad_wrt_mu     0.02867 | grad_wrt_b_per_user     0.00109 | grad_wrt_c_per_item     0.00065\n",
      "epoch      12.000 | loss_total     0.92128 | train_MAE     0.76776 | valid_MAE     0.77850 | grad_wrt_mu     0.10177 | grad_wrt_b_per_user     0.00112 | grad_wrt_c_per_item     0.00063\n",
      "epoch      13.000 | loss_total     0.91583 | train_MAE     0.75931 | valid_MAE     0.77234 | grad_wrt_mu     0.12230 | grad_wrt_b_per_user     0.00106 | grad_wrt_c_per_item     0.00066\n",
      "epoch      14.000 | loss_total     0.91007 | train_MAE     0.76330 | valid_MAE     0.77416 | grad_wrt_mu     0.09514 | grad_wrt_b_per_user     0.00117 | grad_wrt_c_per_item     0.00067\n",
      "epoch      15.000 | loss_total     0.90619 | train_MAE     0.75709 | valid_MAE     0.76939 | grad_wrt_mu     0.02288 | grad_wrt_b_per_user     0.00105 | grad_wrt_c_per_item     0.00062\n",
      "epoch      16.000 | loss_total     0.90057 | train_MAE     0.75268 | valid_MAE     0.76620 | grad_wrt_mu     0.09799 | grad_wrt_b_per_user     0.00108 | grad_wrt_c_per_item     0.00061\n",
      "epoch      17.000 | loss_total     0.89820 | train_MAE     0.75418 | valid_MAE     0.76644 | grad_wrt_mu     0.02592 | grad_wrt_b_per_user     0.00110 | grad_wrt_c_per_item     0.00065\n",
      "epoch      18.000 | loss_total     0.89353 | train_MAE     0.75040 | valid_MAE     0.76359 | grad_wrt_mu     0.04501 | grad_wrt_b_per_user     0.00103 | grad_wrt_c_per_item     0.00065\n",
      "epoch      19.000 | loss_total     0.89294 | train_MAE     0.75028 | valid_MAE     0.76306 | grad_wrt_mu     0.08657 | grad_wrt_b_per_user     0.00110 | grad_wrt_c_per_item     0.00069\n",
      "epoch      20.000 | loss_total     0.88677 | train_MAE     0.74620 | valid_MAE     0.76028 | grad_wrt_mu     0.00353 | grad_wrt_b_per_user     0.00105 | grad_wrt_c_per_item     0.00062\n",
      "epoch      21.000 | loss_total     0.88684 | train_MAE     0.74801 | valid_MAE     0.76094 | grad_wrt_mu     0.02490 | grad_wrt_b_per_user     0.00104 | grad_wrt_c_per_item     0.00066\n",
      "epoch      22.000 | loss_total     0.88408 | train_MAE     0.74596 | valid_MAE     0.75929 | grad_wrt_mu     0.03651 | grad_wrt_b_per_user     0.00109 | grad_wrt_c_per_item     0.00065\n",
      "epoch      23.000 | loss_total     0.88051 | train_MAE     0.74152 | valid_MAE     0.75677 | grad_wrt_mu     0.03457 | grad_wrt_b_per_user     0.00107 | grad_wrt_c_per_item     0.00061\n",
      "epoch      24.000 | loss_total     0.87957 | train_MAE     0.74607 | valid_MAE     0.75888 | grad_wrt_mu     0.01843 | grad_wrt_b_per_user     0.00112 | grad_wrt_c_per_item     0.00061\n",
      "epoch      25.000 | loss_total     0.87677 | train_MAE     0.74131 | valid_MAE     0.75556 | grad_wrt_mu     0.04832 | grad_wrt_b_per_user     0.00103 | grad_wrt_c_per_item     0.00066\n",
      "epoch      26.000 | loss_total     0.87434 | train_MAE     0.74123 | valid_MAE     0.75523 | grad_wrt_mu     0.06767 | grad_wrt_b_per_user     0.00101 | grad_wrt_c_per_item     0.00062\n",
      "epoch      27.000 | loss_total     0.87509 | train_MAE     0.74344 | valid_MAE     0.75650 | grad_wrt_mu     0.09289 | grad_wrt_b_per_user     0.00107 | grad_wrt_c_per_item     0.00063\n",
      "epoch      28.000 | loss_total     0.87281 | train_MAE     0.73868 | valid_MAE     0.75325 | grad_wrt_mu     0.03937 | grad_wrt_b_per_user     0.00106 | grad_wrt_c_per_item     0.00064\n",
      "epoch      29.000 | loss_total     0.87056 | train_MAE     0.74116 | valid_MAE     0.75462 | grad_wrt_mu     0.08180 | grad_wrt_b_per_user     0.00107 | grad_wrt_c_per_item     0.00059\n",
      "epoch      30.000 | loss_total     0.87071 | train_MAE     0.73701 | valid_MAE     0.75187 | grad_wrt_mu     0.04130 | grad_wrt_b_per_user     0.00111 | grad_wrt_c_per_item     0.00066\n",
      "epoch      31.000 | loss_total     0.86800 | train_MAE     0.73795 | valid_MAE     0.75217 | grad_wrt_mu     0.06630 | grad_wrt_b_per_user     0.00107 | grad_wrt_c_per_item     0.00063\n",
      "epoch      32.000 | loss_total     0.86686 | train_MAE     0.73805 | valid_MAE     0.75209 | grad_wrt_mu     0.05251 | grad_wrt_b_per_user     0.00108 | grad_wrt_c_per_item     0.00068\n",
      "epoch      33.000 | loss_total     0.86470 | train_MAE     0.73632 | valid_MAE     0.75086 | grad_wrt_mu     0.13309 | grad_wrt_b_per_user     0.00103 | grad_wrt_c_per_item     0.00062\n",
      "epoch      34.000 | loss_total     0.86450 | train_MAE     0.74037 | valid_MAE     0.75349 | grad_wrt_mu     0.01601 | grad_wrt_b_per_user     0.00099 | grad_wrt_c_per_item     0.00061\n",
      "epoch      35.000 | loss_total     0.86281 | train_MAE     0.73744 | valid_MAE     0.75133 | grad_wrt_mu     0.11408 | grad_wrt_b_per_user     0.00105 | grad_wrt_c_per_item     0.00059\n",
      "epoch      36.000 | loss_total     0.86411 | train_MAE     0.73926 | valid_MAE     0.75250 | grad_wrt_mu     0.07516 | grad_wrt_b_per_user     0.00107 | grad_wrt_c_per_item     0.00065\n",
      "epoch      37.000 | loss_total     0.86084 | train_MAE     0.73320 | valid_MAE     0.74852 | grad_wrt_mu     0.04684 | grad_wrt_b_per_user     0.00098 | grad_wrt_c_per_item     0.00058\n",
      "epoch      38.000 | loss_total     0.86143 | train_MAE     0.73537 | valid_MAE     0.74967 | grad_wrt_mu     0.13923 | grad_wrt_b_per_user     0.00104 | grad_wrt_c_per_item     0.00061\n"
     ]
    },
    {
     "name": "stdout",
     "output_type": "stream",
     "text": [
      "epoch      39.000 | loss_total     0.86061 | train_MAE     0.73396 | valid_MAE     0.74864 | grad_wrt_mu     0.05648 | grad_wrt_b_per_user     0.00109 | grad_wrt_c_per_item     0.00063\n",
      "epoch      40.000 | loss_total     0.85766 | train_MAE     0.73399 | valid_MAE     0.74857 | grad_wrt_mu     0.03568 | grad_wrt_b_per_user     0.00105 | grad_wrt_c_per_item     0.00065\n",
      "epoch      41.000 | loss_total     0.85810 | train_MAE     0.73225 | valid_MAE     0.74742 | grad_wrt_mu     0.00388 | grad_wrt_b_per_user     0.00100 | grad_wrt_c_per_item     0.00062\n",
      "epoch      42.000 | loss_total     0.85796 | train_MAE     0.73425 | valid_MAE     0.74854 | grad_wrt_mu     0.11888 | grad_wrt_b_per_user     0.00101 | grad_wrt_c_per_item     0.00062\n",
      "epoch      43.000 | loss_total     0.85770 | train_MAE     0.73751 | valid_MAE     0.75069 | grad_wrt_mu     0.12667 | grad_wrt_b_per_user     0.00106 | grad_wrt_c_per_item     0.00061\n",
      "epoch      44.000 | loss_total     0.85618 | train_MAE     0.73632 | valid_MAE     0.74978 | grad_wrt_mu     0.20929 | grad_wrt_b_per_user     0.00113 | grad_wrt_c_per_item     0.00066\n",
      "epoch      45.000 | loss_total     0.85481 | train_MAE     0.72910 | valid_MAE     0.74549 | grad_wrt_mu     0.04211 | grad_wrt_b_per_user     0.00098 | grad_wrt_c_per_item     0.00059\n",
      "epoch      46.000 | loss_total     0.85470 | train_MAE     0.73115 | valid_MAE     0.74628 | grad_wrt_mu     0.04126 | grad_wrt_b_per_user     0.00099 | grad_wrt_c_per_item     0.00060\n",
      "epoch      47.000 | loss_total     0.85409 | train_MAE     0.73476 | valid_MAE     0.74854 | grad_wrt_mu     0.13682 | grad_wrt_b_per_user     0.00097 | grad_wrt_c_per_item     0.00060\n",
      "epoch      48.000 | loss_total     0.85446 | train_MAE     0.72833 | valid_MAE     0.74472 | grad_wrt_mu     0.01835 | grad_wrt_b_per_user     0.00101 | grad_wrt_c_per_item     0.00062\n",
      "epoch      49.000 | loss_total     0.85310 | train_MAE     0.73491 | valid_MAE     0.74855 | grad_wrt_mu     0.05834 | grad_wrt_b_per_user     0.00100 | grad_wrt_c_per_item     0.00060\n",
      "epoch      50.000 | loss_total     0.85335 | train_MAE     0.72789 | valid_MAE     0.74427 | grad_wrt_mu     0.00319 | grad_wrt_b_per_user     0.00103 | grad_wrt_c_per_item     0.00065\n",
      "epoch      55.000 | loss_total     0.84982 | train_MAE     0.72858 | valid_MAE     0.74403 | grad_wrt_mu     0.02998 | grad_wrt_b_per_user     0.00105 | grad_wrt_c_per_item     0.00066\n",
      "epoch      60.000 | loss_total     0.84875 | train_MAE     0.72844 | valid_MAE     0.74367 | grad_wrt_mu     0.00011 | grad_wrt_b_per_user     0.00104 | grad_wrt_c_per_item     0.00062\n",
      "epoch      65.000 | loss_total     0.84712 | train_MAE     0.72698 | valid_MAE     0.74254 | grad_wrt_mu     0.00214 | grad_wrt_b_per_user     0.00103 | grad_wrt_c_per_item     0.00060\n",
      "epoch      70.000 | loss_total     0.84536 | train_MAE     0.72602 | valid_MAE     0.74180 | grad_wrt_mu     0.05599 | grad_wrt_b_per_user     0.00105 | grad_wrt_c_per_item     0.00057\n",
      "epoch      75.000 | loss_total     0.84372 | train_MAE     0.72443 | valid_MAE     0.74072 | grad_wrt_mu     0.00938 | grad_wrt_b_per_user     0.00104 | grad_wrt_c_per_item     0.00061\n",
      "epoch      80.000 | loss_total     0.84402 | train_MAE     0.72764 | valid_MAE     0.74266 | grad_wrt_mu     0.08137 | grad_wrt_b_per_user     0.00110 | grad_wrt_c_per_item     0.00059\n",
      "epoch      85.000 | loss_total     0.84276 | train_MAE     0.73016 | valid_MAE     0.74450 | grad_wrt_mu     0.15391 | grad_wrt_b_per_user     0.00097 | grad_wrt_c_per_item     0.00060\n",
      "epoch      90.000 | loss_total     0.84101 | train_MAE     0.72370 | valid_MAE     0.73991 | grad_wrt_mu     0.00200 | grad_wrt_b_per_user     0.00104 | grad_wrt_c_per_item     0.00057\n",
      "epoch      95.000 | loss_total     0.84137 | train_MAE     0.72355 | valid_MAE     0.73979 | grad_wrt_mu     0.12761 | grad_wrt_b_per_user     0.00105 | grad_wrt_c_per_item     0.00065\n",
      "epoch      99.988 | loss_total     0.84049 | train_MAE     0.72370 | valid_MAE     0.73981 | grad_wrt_mu     0.02458 | grad_wrt_b_per_user     0.00109 | grad_wrt_c_per_item     0.00061\n"
     ]
    }
   ],
   "source": [
    "train_tuple, valid_tuple, test_tuple, n_users, n_items = load_dataset()\n",
    "model = CollabFilterOneScalarPerItem(\n",
    "        n_epochs=100, step_size=0.5)\n",
    "model.init_parameter_dict(n_users, n_items, train_tuple)\n",
    "model.fit(train_tuple, valid_tuple)"
   ]
  },
  {
   "cell_type": "code",
   "execution_count": 15,
   "metadata": {},
   "outputs": [
    {
     "data": {
      "text/plain": [
       "<matplotlib.legend.Legend at 0x24b01b2a630>"
      ]
     },
     "execution_count": 15,
     "metadata": {},
     "output_type": "execute_result"
    },
    {
     "data": {
      "image/png": "[encoded data removed]",
      "text/plain": [
       "<Figure size 432x288 with 1 Axes>"
      ]
     },
     "metadata": {
      "needs_background": "light"
     },
     "output_type": "display_data"
    }
   ],
   "source": [
    "plt.plot(model.trace_epoch, model.trace_mae_train, label=\"Training MAE\")\n",
    "plt.plot(model.trace_epoch, model.trace_mae_valid, label=\"Validation MAE\")\n",
    "plt.ylim((0.5, 1))\n",
    "plt.legend()"
   ]
  },
  {
   "cell_type": "code",
   "execution_count": 23,
   "metadata": {},
   "outputs": [
    {
     "name": "stdout",
     "output_type": "stream",
     "text": [
      "0.7398123931356684\n"
     ]
    }
   ],
   "source": [
    "m2Err = model.trace_mae_valid[-1]\n",
    "print(m2Err)"
   ]
  },
  {
   "cell_type": "code",
   "execution_count": null,
   "metadata": {},
   "outputs": [],
   "source": []
  }
 ],
 "metadata": {
  "kernelspec": {
   "display_name": "Python 3",
   "language": "python",
   "name": "python3"
  },
  "language_info": {
   "codemirror_mode": {
    "name": "ipython",
    "version": 3
   },
   "file_extension": ".py",
   "mimetype": "text/x-python",
   "name": "python",
   "nbconvert_exporter": "python",
   "pygments_lexer": "ipython3",
   "version": "3.6.8"
  }
 },
 "nbformat": 4,
 "nbformat_minor": 2
}
